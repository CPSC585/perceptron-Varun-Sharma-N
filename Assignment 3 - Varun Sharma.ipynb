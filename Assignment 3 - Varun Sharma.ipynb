{
 "cells": [
  {
   "cell_type": "code",
   "execution_count": 1,
   "metadata": {},
   "outputs": [],
   "source": [
    "\"\"\" \n",
    "Varun Sharma N\n",
    "\"\"\"\n",
    "import numpy as np"
   ]
  },
  {
   "cell_type": "code",
   "execution_count": 2,
   "metadata": {},
   "outputs": [],
   "source": [
    "class Node(object):\n",
    "    \"\"\"\n",
    "    Base object for all inputs and outputs.\n",
    "    \"\"\"\n",
    "    def __init__(self, value, grad):\n",
    "        self.value = value\n",
    "        self.gradient = grad"
   ]
  },
  {
   "cell_type": "code",
   "execution_count": 3,
   "metadata": {},
   "outputs": [],
   "source": [
    "class MultiplyNode(object):\n",
    "    \"\"\"\n",
    "    Multiplies two inputs\n",
    "    \"\"\"\n",
    "    def forward(self, x1, x2):\n",
    "        self.x1 = x1\n",
    "        self.x2 = x2\n",
    "        self.output = Node(self.x1.value * self.x2.value, 0)\n",
    "        return self.output\n",
    "    \n",
    "    def backward(self):\n",
    "        self.x1.gradient = self.x2.value * self.output.gradient\n",
    "        self.x2.gradient = self.x1.value * self.output.gradient"
   ]
  },
  {
   "cell_type": "code",
   "execution_count": 4,
   "metadata": {},
   "outputs": [],
   "source": [
    "class AddNode(object):    \n",
    "    \"\"\"\n",
    "    Adds two inputs x1 and x2.\n",
    "    \"\"\"\n",
    "    def forward(self, x1, x2):\n",
    "        self.x1 = x1\n",
    "        self.x2 = x2\n",
    "        self.output = Node(self.x1.value + self.x2.value, 0)\n",
    "        return self.output\n",
    "    \n",
    "    def backward(self):\n",
    "        self.x1.gradient = 1 * self.output.gradient\n",
    "        self.x2.gradient = 1 * self.output.gradient"
   ]
  },
  {
   "cell_type": "code",
   "execution_count": 5,
   "metadata": {},
   "outputs": [],
   "source": [
    "class SigmoidNode(object):\n",
    "    \"\"\"\n",
    "    Adds a sigmoid non-linearity to a single input\n",
    "    \"\"\"\n",
    "    def forward(self, x):\n",
    "        self.x = x\n",
    "        self.output = Node(1/(1 + np.exp(-1 * self.x.value)), 0.0)\n",
    "        return self.output\n",
    "        \n",
    "    def backward(self):\n",
    "        s = 1/(1 + np.exp(-1 * self.x.value))\n",
    "        self.x.gradient = (s * (1 - s)) * self.output.gradient"
   ]
  },
  {
   "cell_type": "code",
   "execution_count": 6,
   "metadata": {},
   "outputs": [],
   "source": [
    "def forward_nn():\n",
    "    # w1 * x1\n",
    "    w1x1 = w1_mul_x1.forward(w1, x1)\n",
    "    # w2 * x2\n",
    "    w2x2 = w2_mul_x2.forward(w2, x2)\n",
    "    # w1*x1 + w2*x2\n",
    "    w1x1_w2x2 = w1x1_add_w2x2.forward(w1x1, w2x2)\n",
    "    # w1*x1 + w2*x2 + b\n",
    "    w1x1_w2x2_b = w1x1w2x2_add_b.forward(w1x1_w2x2, b)\n",
    "    # sigmoid(w1*x1 + w2*x2 + b)\n",
    "    output = sigmoid_out.forward(w1x1_w2x2_b)\n",
    "    return output\n",
    "\n",
    "def backward_nn():\n",
    "    sigmoid_out.backward()\n",
    "    w1x1w2x2_add_b.backward()\n",
    "    w1x1_add_w2x2.backward()\n",
    "    w2_mul_x2.backward()\n",
    "    w1_mul_x1.backward()\n",
    "    "
   ]
  },
  {
   "cell_type": "code",
   "execution_count": 7,
   "metadata": {},
   "outputs": [],
   "source": [
    "# For perceptron 2\n",
    "def forward_nn_2():\n",
    "    # w1 * x1\n",
    "    w1x1_2 = w1_mul_x1_2.forward(w1, p.sigmoid.output)\n",
    "\n",
    "    # w1*x1 + b\n",
    "    w1x1_b_2 = w1x1_add_b_2.forward(w1x1_2, b)\n",
    "    # sigmoid(w1*x1 + b)\n",
    "    output_2 = sigmoid_out_2.forward(w1x1_b_2)\n",
    "    return output_2\n",
    "\n",
    "def backward_nn_2():\n",
    "    sigmoid_out_2.backward()\n",
    "    w1x1_add_b_2.backward()\n",
    "    w1_mul_x1_2.backward()"
   ]
  },
  {
   "cell_type": "markdown",
   "metadata": {},
   "source": [
    "### Validation"
   ]
  },
  {
   "cell_type": "code",
   "execution_count": 8,
   "metadata": {},
   "outputs": [],
   "source": [
    "# Initialize Weights and Bias\n",
    "w1 = Node(0.1, 0.0)\n",
    "w2 = Node(0.4, 0.0)\n",
    "b = Node(-0.02, 0.0)\n",
    "\n",
    "# Input/Target Output\n",
    "alpha = 0.001\n",
    "x1 = Node(0.3, 0.0)\n",
    "x2 = Node(1.0, 0.0)\n",
    "y = 0.475\n",
    "\n",
    "# Create Nodes\n",
    "w1_mul_x1 = MultiplyNode()\n",
    "w2_mul_x2 = MultiplyNode()\n",
    "w1x1_add_w2x2 = AddNode()\n",
    "w1x1w2x2_add_b = AddNode()\n",
    "sigmoid_out = SigmoidNode()\n",
    "\n",
    "\n",
    "# Initialize Weights and Bias - for 2nd perceptron\n",
    "w3 = Node(0.5, 0.0)\n",
    "b2 = Node(-0.03, 0.0)\n",
    "\n",
    "# Create Nodes\n",
    "w1_mul_x1_2 = MultiplyNode()\n",
    "w1x1_add_b_2 = AddNode()\n",
    "sigmoid_out_2 = SigmoidNode()"
   ]
  },
  {
   "cell_type": "code",
   "execution_count": 9,
   "metadata": {},
   "outputs": [],
   "source": [
    "class Perceptron(object):\n",
    "    def __init__(self, x1, x2, alpha=0.001):\n",
    "        ### Hyper parameters\n",
    "        self.alpha = alpha\n",
    "        ### Initializing weights/bias to a random float between -1 and 1.\n",
    "        self.w1 = Node(np.random.uniform(-1, 1), 0.0)\n",
    "        self.w2 = Node(np.random.uniform(-1, 1), 0.0)\n",
    "        self.b = Node(np.random.uniform(-1, 1), 0.0)\n",
    "        ### Input and Output variables\n",
    "        self.x1 = Node(x1, 0.0)\n",
    "        self.x2 = Node(x2, 0.0)\n",
    "        \n",
    "        self.po1 = Node(x1, 0.0) # x1 is just for init\n",
    "        ### Initialize operators nodes required \n",
    "        ### for processing the inputs within a perceptron\n",
    "        self.initialize_operators()\n",
    "    \n",
    "    def initialize_operators(self):\n",
    "        self.w1_mul_x1 = MultiplyNode()\n",
    "        self.w2_mul_x2 = MultiplyNode()\n",
    "        self.w1x1_add_w2x2 = AddNode()\n",
    "        self.w1x1_w2x2_add_b = AddNode()\n",
    "        self.sigmoid = SigmoidNode()\n",
    "    \n",
    "    def forward(self):\n",
    "        w1x1 = self.w1_mul_x1.forward(self.w1, self.x1)\n",
    "        w2x2 = self.w2_mul_x2.forward(self.w2, self.x2)\n",
    "        w1x1_w2x2 = self.w1x1_add_w2x2.forward(w1x1, w2x2)\n",
    "        w1x1_w2x2_b = self.w1x1_w2x2_add_b.forward(w1x1_w2x2, self.b)\n",
    "        \n",
    "        po1 = self.sigmoid.forward(w1x1_w2x2_b)\n",
    "        \n",
    "    def backward(self):\n",
    "        self.sigmoid.backward()\n",
    "        self.w1x1_w2x2_add_b.backward()\n",
    "        self.w1x1_add_w2x2.backward()\n",
    "        self.w2_mul_x2.backward()\n",
    "        self.w1_mul_x1.backward()\n",
    "    \n",
    "    def update(self):\n",
    "        self.w1.value -= self.alpha * self.w1.gradient\n",
    "        self.w2.value -= self.alpha * self.w2.gradient\n",
    "        self.b.value -= self.alpha * self.b.gradient"
   ]
  },
  {
   "cell_type": "code",
   "execution_count": 10,
   "metadata": {},
   "outputs": [],
   "source": [
    "class Perceptron_2(object):\n",
    "    def __init__(self, alpha=0.001):\n",
    "        ### Hyper parameters\n",
    "        self.alpha = alpha\n",
    "        ### Initializing weights/bias to a random float between -1 and 1.\n",
    "        self.w3 = Node(np.random.uniform(-1, 1), 0.0)\n",
    "\n",
    "        self.b2 = Node(np.random.uniform(-1, 1), 0.0)\n",
    "        ### Input and Output variables\n",
    "        self.o1 = p.po1\n",
    "\n",
    "        ### Initialize operators nodes required \n",
    "        ### for processing the inputs within a perceptron\n",
    "        self.initialize_operators_2()\n",
    "    \n",
    "    def initialize_operators_2(self):\n",
    "        self.w1_mul_x1_2 = MultiplyNode()\n",
    "        self.w1x1_add_b_2 = AddNode()\n",
    "        self.sigmoid_2 = SigmoidNode()\n",
    "        \n",
    "    \n",
    "    def forward_2(self):\n",
    "        w1x1_2 = self.w1_mul_x1_2.forward(self.w3, p.sigmoid.output)\n",
    "        w1x1_b_2 = self.w1x1_add_b_2.forward(w1x1_2, self.b2)\n",
    "        self.sigmoid_2.forward(w1x1_b_2)\n",
    "        \n",
    "    def backward_2(self):\n",
    "        self.sigmoid_2.backward()\n",
    "        self.w1x1_add_b_2.backward()\n",
    "        self.w1_mul_x1_2.backward()\n",
    "    \n",
    "    def update_2(self):\n",
    "        self.w3.value -= self.alpha * self.w3.gradient\n",
    "        self.b2.value -= self.alpha * self.b2.gradient"
   ]
  },
  {
   "cell_type": "code",
   "execution_count": 11,
   "metadata": {},
   "outputs": [
    {
     "data": {
      "text/plain": [
       "0.34819726398170026"
      ]
     },
     "execution_count": 11,
     "metadata": {},
     "output_type": "execute_result"
    }
   ],
   "source": [
    "p = Perceptron(0.11, -1.0, alpha=0.1)\n",
    "\n",
    "# Input for 2nd perceptron is directly taken when forward is called.\n",
    "p2 = Perceptron_2(alpha=0.1)\n",
    "# number of iterations\n",
    "N = 100000\n",
    "# expected output \n",
    "target = 0.3481972639817\n",
    "\n",
    "for i in range(N):\n",
    "    \n",
    "    # Step 1. Forward Pass\n",
    "    p.forward()\n",
    "    p2.forward_2()\n",
    "    \n",
    "    # Step 2. Calculate Loss. -2 * (y - output) is the gradient of output w.r.t \n",
    "    # square loss function.\n",
    "    p.sigmoid.output.gradient = -2 * (target - p.sigmoid.output.value)\n",
    "    p2.sigmoid_2.output.gradient = -2 * (target - p2.sigmoid_2.output.value)\n",
    "    \n",
    "    # Step 3. Backward Pass\n",
    "    p2.backward_2()\n",
    "    p.backward()\n",
    "    \n",
    "    # Step 4. Update Weights and Bias\n",
    "    p2.update_2()\n",
    "    p.update()\n",
    "    \n",
    "\n",
    "p2.sigmoid_2.output.value"
   ]
  },
  {
   "cell_type": "code",
   "execution_count": null,
   "metadata": {},
   "outputs": [],
   "source": []
  }
 ],
 "metadata": {
  "kernelspec": {
   "display_name": "Python 2",
   "language": "python",
   "name": "python2"
  },
  "language_info": {
   "codemirror_mode": {
    "name": "ipython",
    "version": 2
   },
   "file_extension": ".py",
   "mimetype": "text/x-python",
   "name": "python",
   "nbconvert_exporter": "python",
   "pygments_lexer": "ipython2",
   "version": "2.7.12"
  }
 },
 "nbformat": 4,
 "nbformat_minor": 2
}
